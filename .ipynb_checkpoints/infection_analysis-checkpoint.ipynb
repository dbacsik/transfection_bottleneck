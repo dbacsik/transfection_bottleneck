{
 "cells": [
  {
   "cell_type": "markdown",
   "metadata": {},
   "source": [
    "## Analyze influenza burden and characteristics in individual cells\n",
    "\n",
    "This `R` notebook explores and analyzes data from individual, CA09-infected A549 cells.\n",
    "\n",
    "### Table of Contents"
   ]
  },
  {
   "cell_type": "code",
   "execution_count": null,
   "metadata": {},
   "outputs": [],
   "source": []
  },
  {
   "cell_type": "markdown",
   "metadata": {},
   "source": [
    "### Set up for analysis"
   ]
  },
  {
   "cell_type": "markdown",
   "metadata": {},
   "source": [
    "#### Load / install packages\n",
    "Load or install the necessary R packages, print session information that describes the packages / versions used.\n",
    "\n",
    "Set all input parameters for notebook in the following cellk, to enable papermill parameterization."
   ]
  },
  {
   "cell_type": "code",
   "execution_count": 1,
   "metadata": {},
   "outputs": [],
   "source": [
    "# Parameters\n",
    "\n",
    "# Pallette\n",
    "cbPalette <- c(\"#999999\", \"#E69F00\", \"#56B4E9\", \"#009E73\", \"#F0E442\", \n",
    "               \"#0072B2\", \"#D55E00\", \"#CC79A7\")\n",
    "\n",
    "options(scipen=999) # turn off scientific notation\n",
    "\n",
    "# Input files\n",
    "matrixdir <- \"./results/cellfeature_matrices/CA09_infected_A549\""
   ]
  },
  {
   "cell_type": "code",
   "execution_count": 2,
   "metadata": {},
   "outputs": [
    {
     "data": {
      "text/plain": [
       "R version 3.5.1 (2018-07-02)\n",
       "Platform: x86_64-conda_cos6-linux-gnu (64-bit)\n",
       "Running under: Ubuntu 14.04.5 LTS\n",
       "\n",
       "Matrix products: default\n",
       "BLAS/LAPACK: /fh/fast/bloom_j/software/conda/envs/BloomLab_v2/lib/R/lib/libRblas.so\n",
       "\n",
       "locale:\n",
       " [1] LC_CTYPE=en_US.UTF-8       LC_NUMERIC=C              \n",
       " [3] LC_TIME=en_US.UTF-8        LC_COLLATE=en_US.UTF-8    \n",
       " [5] LC_MONETARY=en_US.UTF-8    LC_MESSAGES=en_US.UTF-8   \n",
       " [7] LC_PAPER=en_US.UTF-8       LC_NAME=C                 \n",
       " [9] LC_ADDRESS=C               LC_TELEPHONE=C            \n",
       "[11] LC_MEASUREMENT=en_US.UTF-8 LC_IDENTIFICATION=C       \n",
       "\n",
       "attached base packages:\n",
       " [1] splines   stats4    parallel  stats     graphics  grDevices utils    \n",
       " [8] datasets  methods   base     \n",
       "\n",
       "other attached packages:\n",
       " [1] monocle_2.8.0       DDRTree_0.1.5       irlba_2.3.2        \n",
       " [4] VGAM_1.0-6          Biobase_2.40.0      BiocGenerics_0.26.0\n",
       " [7] qlcMatrix_0.9.7     sparsesvd_0.1-4     slam_0.1-43        \n",
       "[10] Matrix_1.2-14       cowplot_0.9.3       forcats_0.3.0      \n",
       "[13] stringr_1.3.1       dplyr_0.7.8         purrr_0.2.5        \n",
       "[16] readr_1.1.1         tidyr_0.8.1         tibble_1.4.2       \n",
       "[19] ggplot2_3.1.0       tidyverse_1.2.1    \n",
       "\n",
       "loaded via a namespace (and not attached):\n",
       " [1] viridis_0.5.1          httr_1.3.1             viridisLite_0.3.0     \n",
       " [4] jsonlite_1.6           modelr_0.1.2           assertthat_0.2.0      \n",
       " [7] cellranger_1.1.0       ggrepel_0.8.0          pillar_1.3.0          \n",
       "[10] backports_1.1.2        lattice_0.20-35        limma_3.36.5          \n",
       "[13] glue_1.3.0             densityClust_0.3       uuid_0.1-2            \n",
       "[16] digest_0.6.18          RColorBrewer_1.1-2     rvest_0.3.2           \n",
       "[19] colorspace_1.3-2       fastICA_1.2-1          htmltools_0.3.6       \n",
       "[22] plyr_1.8.4             pkgconfig_2.0.1        pheatmap_1.0.10       \n",
       "[25] HSMMSingleCell_0.114.0 broom_0.5.0            haven_1.1.2           \n",
       "[28] scales_1.0.0           RANN_2.6               Rtsne_0.15            \n",
       "[31] combinat_0.0-8         docopt_0.6.1           withr_2.1.2           \n",
       "[34] repr_0.19.1.9000       lazyeval_0.2.1         cli_1.0.0             \n",
       "[37] magrittr_1.5           crayon_1.3.4           readxl_1.1.0          \n",
       "[40] evaluate_0.11          nlme_3.1-137           xml2_1.2.0            \n",
       "[43] FNN_1.1.2.1            tools_3.5.1            hms_0.4.2             \n",
       "[46] matrixStats_0.54.0     munsell_0.5.0          cluster_2.0.7-1       \n",
       "[49] bindrcpp_0.2.2         compiler_3.5.1         rlang_0.3.0.1         \n",
       "[52] grid_3.5.1             pbdZMQ_0.3-3           IRkernel_0.8.12       \n",
       "[55] rstudioapi_0.7         igraph_1.2.2           base64enc_0.1-3       \n",
       "[58] gtable_0.2.0           reshape2_1.4.3         R6_2.2.2              \n",
       "[61] gridExtra_2.3          lubridate_1.7.4        bindr_0.1.1           \n",
       "[64] stringi_1.2.4          IRdisplay_0.7.0        Rcpp_1.0.0            \n",
       "[67] tidyselect_0.2.4      "
      ]
     },
     "metadata": {},
     "output_type": "display_data"
    }
   ],
   "source": [
    "# Load packages\n",
    "\n",
    "r_packages <- c(\"tidyverse\", \"cowplot\", \"qlcMatrix\", \"monocle\")\n",
    "suppressMessages(invisible(\n",
    "  lapply(r_packages, library, character.only=TRUE)))\n",
    "\n",
    "sessionInfo()"
   ]
  },
  {
   "cell_type": "markdown",
   "metadata": {},
   "source": [
    "### Load cell-gene matrix\n",
    "Load the cell gene matrix into a Monocle CellDataSet object.\n",
    "\n",
    "First, load expression values into the expression matrix. Then, load pheno data (essentially cell type at this point), and feature (aka gene) names.\n",
    "\n",
    "Finally, combine them all into a CellDataSet object."
   ]
  },
  {
   "cell_type": "code",
   "execution_count": 3,
   "metadata": {},
   "outputs": [
    {
     "name": "stderr",
     "output_type": "stream",
     "text": [
      "Removing 263 outliers\n"
     ]
    }
   ],
   "source": [
    "expression_matrix <- readMM(file.path(matrixdir, \"matrix.mtx.gz\"))\n",
    "pheno_data <- new(\"AnnotatedDataFrame\", data = read.delim(file.path(matrixdir, \n",
    "    \"gem_classification.csv\"), na.strings=c(\"None\"), sep=\",\")) # entries of None indicate NA\n",
    "varLabels(pheno_data) <- c(\"barcode\", \"humanplusflu\", \"mouse\", \"cell_type\")\n",
    "feature_data <- new(\"AnnotatedDataFrame\", data = read.delim(file.path(matrixdir,\n",
    "    \"features_w_header.tsv.gz\")))\n",
    "\n",
    "cds <- newCellDataSet(expression_matrix,\n",
    "                      phenoData = pheno_data,\n",
    "                      featureData = feature_data,\n",
    "                      expressionFamily=negbinomial.size())\n",
    "\n",
    "cds <- estimateSizeFactors(cds)\n",
    "cds <- estimateDispersions(cds)"
   ]
  },
  {
   "cell_type": "markdown",
   "metadata": {},
   "source": [
    "Quick quality control on loaded data."
   ]
  },
  {
   "cell_type": "code",
   "execution_count": 4,
   "metadata": {},
   "outputs": [
    {
     "name": "stdout",
     "output_type": "stream",
     "text": [
      "[1] \"expression_matrix\"\n"
     ]
    },
    {
     "data": {
      "text/html": [
       "<ol class=list-inline>\n",
       "\t<li>41975</li>\n",
       "\t<li>2569</li>\n",
       "</ol>\n"
      ],
      "text/latex": [
       "\\begin{enumerate*}\n",
       "\\item 41975\n",
       "\\item 2569\n",
       "\\end{enumerate*}\n"
      ],
      "text/markdown": [
       "1. 41975\n",
       "2. 2569\n",
       "\n",
       "\n"
      ],
      "text/plain": [
       "[1] 41975  2569"
      ]
     },
     "metadata": {},
     "output_type": "display_data"
    },
    {
     "name": "stdout",
     "output_type": "stream",
     "text": [
      "[1] \"pheno_data\"\n"
     ]
    },
    {
     "data": {
      "text/html": [
       "<table>\n",
       "<thead><tr><th></th><th scope=col>labelDescription</th></tr></thead>\n",
       "<tbody>\n",
       "\t<tr><th scope=row>barcode</th><td>NA</td></tr>\n",
       "\t<tr><th scope=row>humanplusflu</th><td>NA</td></tr>\n",
       "\t<tr><th scope=row>mouse</th><td>NA</td></tr>\n",
       "\t<tr><th scope=row>cell_type</th><td>NA</td></tr>\n",
       "</tbody>\n",
       "</table>\n"
      ],
      "text/latex": [
       "\\begin{tabular}{r|l}\n",
       "  & labelDescription\\\\\n",
       "\\hline\n",
       "\tbarcode & NA\\\\\n",
       "\thumanplusflu & NA\\\\\n",
       "\tmouse & NA\\\\\n",
       "\tcell\\_type & NA\\\\\n",
       "\\end{tabular}\n"
      ],
      "text/markdown": [
       "\n",
       "| <!--/--> | labelDescription |\n",
       "|---|---|\n",
       "| barcode | NA |\n",
       "| humanplusflu | NA |\n",
       "| mouse | NA |\n",
       "| cell_type | NA |\n",
       "\n"
      ],
      "text/plain": [
       "             labelDescription\n",
       "barcode      NA              \n",
       "humanplusflu NA              \n",
       "mouse        NA              \n",
       "cell_type    NA              "
      ]
     },
     "metadata": {},
     "output_type": "display_data"
    },
    {
     "data": {
      "text/html": [
       "<dl class=dl-horizontal>\n",
       "\t<dt>rowNames</dt>\n",
       "\t\t<dd>2569</dd>\n",
       "\t<dt>columnNames</dt>\n",
       "\t\t<dd>4</dd>\n",
       "</dl>\n"
      ],
      "text/latex": [
       "\\begin{description*}\n",
       "\\item[rowNames] 2569\n",
       "\\item[columnNames] 4\n",
       "\\end{description*}\n"
      ],
      "text/markdown": [
       "rowNames\n",
       ":   2569columnNames\n",
       ":   4\n",
       "\n"
      ],
      "text/plain": [
       "   rowNames columnNames \n",
       "       2569           4 "
      ]
     },
     "metadata": {},
     "output_type": "display_data"
    },
    {
     "name": "stdout",
     "output_type": "stream",
     "text": [
      "[1] \"feature_data\"\n"
     ]
    },
    {
     "data": {
      "text/html": [
       "<table>\n",
       "<thead><tr><th></th><th scope=col>labelDescription</th></tr></thead>\n",
       "<tbody>\n",
       "\t<tr><th scope=row>gene_long_name</th><td>NA</td></tr>\n",
       "\t<tr><th scope=row>gene_short_name</th><td>NA</td></tr>\n",
       "\t<tr><th scope=row>feature_type</th><td>NA</td></tr>\n",
       "</tbody>\n",
       "</table>\n"
      ],
      "text/latex": [
       "\\begin{tabular}{r|l}\n",
       "  & labelDescription\\\\\n",
       "\\hline\n",
       "\tgene\\_long\\_name & NA\\\\\n",
       "\tgene\\_short\\_name & NA\\\\\n",
       "\tfeature\\_type & NA\\\\\n",
       "\\end{tabular}\n"
      ],
      "text/markdown": [
       "\n",
       "| <!--/--> | labelDescription |\n",
       "|---|---|\n",
       "| gene_long_name | NA |\n",
       "| gene_short_name | NA |\n",
       "| feature_type | NA |\n",
       "\n"
      ],
      "text/plain": [
       "                labelDescription\n",
       "gene_long_name  NA              \n",
       "gene_short_name NA              \n",
       "feature_type    NA              "
      ]
     },
     "metadata": {},
     "output_type": "display_data"
    },
    {
     "data": {
      "text/html": [
       "<dl class=dl-horizontal>\n",
       "\t<dt>rowNames</dt>\n",
       "\t\t<dd>41975</dd>\n",
       "\t<dt>columnNames</dt>\n",
       "\t\t<dd>3</dd>\n",
       "</dl>\n"
      ],
      "text/latex": [
       "\\begin{description*}\n",
       "\\item[rowNames] 41975\n",
       "\\item[columnNames] 3\n",
       "\\end{description*}\n"
      ],
      "text/markdown": [
       "rowNames\n",
       ":   41975columnNames\n",
       ":   3\n",
       "\n"
      ],
      "text/plain": [
       "   rowNames columnNames \n",
       "      41975           3 "
      ]
     },
     "metadata": {},
     "output_type": "display_data"
    }
   ],
   "source": [
    "# Dimensions of expression matrix\n",
    "print(\"expression_matrix\")\n",
    "dim(expression_matrix)\n",
    "\n",
    "# Variable names and dimensions of phenodata table\n",
    "print(\"pheno_data\")\n",
    "varMetadata(pheno_data)\n",
    "dim(pheno_data)\n",
    "\n",
    "# Variable names and dimensions of featuredata table\n",
    "print(\"feature_data\")\n",
    "varMetadata(feature_data)\n",
    "dim(feature_data)"
   ]
  },
  {
   "cell_type": "markdown",
   "metadata": {},
   "source": [
    "### Cell type counts\n",
    "Use the cell type calls that cellranger generated when it initially called cells."
   ]
  },
  {
   "cell_type": "code",
   "execution_count": 5,
   "metadata": {},
   "outputs": [
    {
     "data": {
      "text/html": [
       "<table>\n",
       "<thead><tr><th scope=col>cell_type</th><th scope=col>ncells</th></tr></thead>\n",
       "<tbody>\n",
       "\t<tr><td>humanplusflu</td><td>2301        </td></tr>\n",
       "\t<tr><td>mouse       </td><td> 253        </td></tr>\n",
       "\t<tr><td>Multiplet   </td><td>  15        </td></tr>\n",
       "</tbody>\n",
       "</table>\n"
      ],
      "text/latex": [
       "\\begin{tabular}{r|ll}\n",
       " cell\\_type & ncells\\\\\n",
       "\\hline\n",
       "\t humanplusflu & 2301        \\\\\n",
       "\t mouse        &  253        \\\\\n",
       "\t Multiplet    &   15        \\\\\n",
       "\\end{tabular}\n"
      ],
      "text/markdown": [
       "\n",
       "| cell_type | ncells |\n",
       "|---|---|\n",
       "| humanplusflu | 2301         |\n",
       "| mouse        |  253         |\n",
       "| Multiplet    |   15         |\n",
       "\n"
      ],
      "text/plain": [
       "  cell_type    ncells\n",
       "1 humanplusflu 2301  \n",
       "2 mouse         253  \n",
       "3 Multiplet      15  "
      ]
     },
     "metadata": {},
     "output_type": "display_data"
    }
   ],
   "source": [
    "cell_counts <- pData(cds) %>% group_by(cell_type) %>% summarize(n())\n",
    "names(cell_counts) <- c(\"cell_type\", \"ncells\")\n",
    "cell_counts"
   ]
  },
  {
   "cell_type": "code",
   "execution_count": 6,
   "metadata": {},
   "outputs": [
    {
     "data": {},
     "metadata": {},
     "output_type": "display_data"
    },
    {
     "data": {
      "image/png": "[encoded data removed]",
      "text/plain": [
       "plot without title"
      ]
     },
     "metadata": {},
     "output_type": "display_data"
    }
   ],
   "source": [
    "options(repr.plot.width=5, repr.plot.height=2.5)\n",
    "\n",
    "ggplot(pData(cds), aes(cell_type, fill=cell_type)) +\n",
    "    geom_bar() +\n",
    "    scale_fill_manual(values=cbPalette[2:4]) +\n",
    "    xlab(\"cell type\") +\n",
    "    ylab(\"number of cells\") +\n",
    "    theme(axis.text=element_text(size=10), axis.title=element_text(size=11),\n",
    "         legend.text=element_text(size=10), legend.title=element_text(size=11))"
   ]
  },
  {
   "cell_type": "markdown",
   "metadata": {},
   "source": [
    "### Multiplet Rate Estimation\n",
    "\n",
    "We estimate the multiplet frequency from the number of canine cells, humanplusflu cells, and cross-celltype multiplets using the function described in [Bloom (2018)](https://doi.org/10.1101/293639). Got these data directly from cellranger output. Multiplet function was written in [this example repo from the paper](https://github.com/jbloomlab/multiplet_freq/blob/master/calcmultiplet_R.ipynb)."
   ]
  },
  {
   "cell_type": "code",
   "execution_count": 7,
   "metadata": {},
   "outputs": [],
   "source": [
    "#' Multiplet frequency from cell-type mixing experiment.\n",
    "#'\n",
    "#' @param n1 Number of droplets with at least one cell of type 1\n",
    "#' @param n2 Number of droplets with at least one cell of type 2\n",
    "#' @param n12 Number of droplets with cells of both types\n",
    "#' @return The estimated multiplet frequency\n",
    "multiplet_freq <- function(n1, n2, n12) {\n",
    "  n <- n1 * n2 / n12\n",
    "  mu1 <- -log((n - n1) / n)\n",
    "  mu2 <- -log((n - n2) / n)\n",
    "  mu <- mu1 + mu2\n",
    "  return (1 - mu * exp(-mu) / (1 - exp(-mu)))\n",
    "}"
   ]
  },
  {
   "cell_type": "code",
   "execution_count": 8,
   "metadata": {},
   "outputs": [
    {
     "data": {
      "text/html": [
       "'The multiplet frequency in this data set is approximately: 3.3%'"
      ],
      "text/latex": [
       "'The multiplet frequency in this data set is approximately: 3.3\\%'"
      ],
      "text/markdown": [
       "'The multiplet frequency in this data set is approximately: 3.3%'"
      ],
      "text/plain": [
       "[1] \"The multiplet frequency in this data set is approximately: 3.3%\""
      ]
     },
     "metadata": {},
     "output_type": "display_data"
    }
   ],
   "source": [
    "hf <- cell_counts[cell_counts$cell_type == 'humanplusflu',]$ncells\n",
    "m <- cell_counts[cell_counts$cell_type == 'mouse',]$ncells\n",
    "mult <- cell_counts[cell_counts$cell_type == 'Multiplet',]$ncells\n",
    "\n",
    "freq <- multiplet_freq(hf, m, mult) * 100\n",
    "\n",
    "paste0('The multiplet frequency in this data set is approximately: ',\n",
    "       freq %>% format(digits=2), '%')"
   ]
  },
  {
   "cell_type": "code",
   "execution_count": 9,
   "metadata": {},
   "outputs": [
    {
     "data": {},
     "metadata": {},
     "output_type": "display_data"
    },
    {
     "data": {
      "image/png": "[encoded data removed]",
      "text/plain": [
       "plot without title"
      ]
     },
     "metadata": {},
     "output_type": "display_data"
    }
   ],
   "source": [
    "# Make summary plot that includes multiplet rate.\n",
    "# Code from https://github.com/jbloomlab/IFNsorted_flu_single_cell/blob/master/monocle_analysis.ipynb\n",
    "\n",
    "options(repr.plot.width=3.5, repr.plot.height=0.5 * (1 + length(cell_counts)))\n",
    "\n",
    "ggplot(cell_counts,\n",
    "        aes(x=cell_type, y=ncells)) +\n",
    "        geom_bar(width=0.75, position=\"dodge\", stat=\"identity\") +\n",
    "        geom_text(aes(label=ncells), hjust=-0.1) +\n",
    "        scale_y_continuous(expand=expand_scale(c(0.02, 0.23))) +\n",
    "        scale_x_discrete(name=NULL) +\n",
    "        ylab(\"number of cells\") +\n",
    "        theme(axis.text.x=element_blank(), axis.ticks.x=element_blank(),\n",
    "              axis.text=element_text(size=10), axis.title=element_text(size=10)) +\n",
    "        coord_flip() +\n",
    "        annotate(\"text\", x=2.5, y=400,\n",
    "                 label=sprintf(\"multiplet rate = %.0f%%\", freq),\n",
    "                 hjust=-1, fontface=\"italic\", size = 3)"
   ]
  },
  {
   "cell_type": "markdown",
   "metadata": {},
   "source": [
    "### Examine Distribution of UMIs in Droplets"
   ]
  },
  {
   "cell_type": "code",
   "execution_count": 10,
   "metadata": {},
   "outputs": [],
   "source": [
    "# Define flu genes\n",
    "flu_genes <- c(\"fluPB2\", \"fluPB1\", \"fluPA\", \"fluHA\",\n",
    "               \"fluNP\", \"fluNA\", \"fluM\", \"fluNS\")\n",
    "\n",
    "flu_genes <- paste(\"humanplusflu_\", flu_genes, sep=\"\")"
   ]
  },
  {
   "cell_type": "code",
   "execution_count": 11,
   "metadata": {},
   "outputs": [],
   "source": [
    "# annotate by number of total and cellular mRNAs\n",
    "pData(cds)$total_mRNAs <- Matrix::colSums(exprs(cds))\n",
    "pData(cds)$cellular_mRNAs <- Matrix::colSums(exprs(cds[\n",
    "    row.names(subset(fData(cds), !(gene_short_name %in% flu_genes))),]))\n",
    "pData(cds)$flu_mRNAs <- Matrix::colSums(exprs(cds[\n",
    "    row.names(subset(fData(cds), gene_short_name %in% flu_genes)),]))\n",
    "pData(cds)$frac_flu <- pData(cds)$flu_mRNAs / pData(cds)$total_mRNAs"
   ]
  },
  {
   "cell_type": "code",
   "execution_count": 12,
   "metadata": {},
   "outputs": [
    {
     "data": {},
     "metadata": {},
     "output_type": "display_data"
    },
    {
     "data": {
      "image/png": "[encoded data removed]",
      "text/plain": [
       "plot without title"
      ]
     },
     "metadata": {},
     "output_type": "display_data"
    }
   ],
   "source": [
    "# Plot distribution of cellular mRNAs\n",
    "options(repr.plot.width=2.3 * (1 + length(cell_counts)), repr.plot.height=3)\n",
    "\n",
    "ggplot(pData(cds), aes(x=cellular_mRNAs, color=cell_type)) +\n",
    "    geom_density() +\n",
    "    facet_wrap(~cell_type) +\n",
    "    theme(axis.text.x=element_text(angle = 90, vjust = 0.4, size=10),\n",
    "         axis.title=element_text(size=11))"
   ]
  },
  {
   "cell_type": "markdown",
   "metadata": {},
   "source": [
    "By and large, most of our cells have ~10k mRNAs counted. "
   ]
  },
  {
   "cell_type": "markdown",
   "metadata": {},
   "source": [
    "### Assess flu burden in all droplets, before filtering"
   ]
  },
  {
   "cell_type": "code",
   "execution_count": 13,
   "metadata": {},
   "outputs": [
    {
     "data": {
      "text/html": [
       "<table>\n",
       "<thead><tr><th scope=col>cell_type</th><th scope=col>n_flu_mRNAs</th><th scope=col>n_total_mRNAs</th><th scope=col>total_frac_flu</th></tr></thead>\n",
       "<tbody>\n",
       "\t<tr><td>humanplusflu </td><td>17304        </td><td>27365140     </td><td>0.00063233735</td></tr>\n",
       "\t<tr><td>mouse        </td><td>   83        </td><td> 3365139     </td><td>0.00002466466</td></tr>\n",
       "\t<tr><td>Multiplet    </td><td>    5        </td><td>  310445     </td><td>0.00001610591</td></tr>\n",
       "</tbody>\n",
       "</table>\n"
      ],
      "text/latex": [
       "\\begin{tabular}{r|llll}\n",
       " cell\\_type & n\\_flu\\_mRNAs & n\\_total\\_mRNAs & total\\_frac\\_flu\\\\\n",
       "\\hline\n",
       "\t humanplusflu  & 17304         & 27365140      & 0.00063233735\\\\\n",
       "\t mouse         &    83         &  3365139      & 0.00002466466\\\\\n",
       "\t Multiplet     &     5         &   310445      & 0.00001610591\\\\\n",
       "\\end{tabular}\n"
      ],
      "text/markdown": [
       "\n",
       "| cell_type | n_flu_mRNAs | n_total_mRNAs | total_frac_flu |\n",
       "|---|---|---|---|\n",
       "| humanplusflu  | 17304         | 27365140      | 0.00063233735 |\n",
       "| mouse         |    83         |  3365139      | 0.00002466466 |\n",
       "| Multiplet     |     5         |   310445      | 0.00001610591 |\n",
       "\n"
      ],
      "text/plain": [
       "  cell_type    n_flu_mRNAs n_total_mRNAs total_frac_flu\n",
       "1 humanplusflu 17304       27365140      0.00063233735 \n",
       "2 mouse           83        3365139      0.00002466466 \n",
       "3 Multiplet        5         310445      0.00001610591 "
      ]
     },
     "metadata": {},
     "output_type": "display_data"
    }
   ],
   "source": [
    "# Summary statistic - % flu reads in unfiltered data, separated by cell type\n",
    "\n",
    "pData(cds) %>%\n",
    "    group_by(cell_type) %>% \n",
    "      summarize(n_flu_mRNAs=sum(flu_mRNAs),\n",
    "                n_total_mRNAs=sum(total_mRNAs),\n",
    "                total_frac_flu=n_flu_mRNAs / n_total_mRNAs)"
   ]
  },
  {
   "cell_type": "code",
   "execution_count": 14,
   "metadata": {},
   "outputs": [
    {
     "data": {
      "text/html": [
       "<table>\n",
       "<thead><tr><th scope=col>cell_type</th><th scope=col>median(cellular_mRNAs)</th><th scope=col>max(cellular_mRNAs)</th><th scope=col>median(flu_mRNAs)</th><th scope=col>max(flu_mRNAs)</th><th scope=col>median(frac_flu)</th><th scope=col>format(max(frac_flu), digits = 2)</th></tr></thead>\n",
       "<tbody>\n",
       "\t<tr><td>humanplusflu</td><td>11605       </td><td>40639       </td><td>0           </td><td>2210        </td><td>0           </td><td>0.24        </td></tr>\n",
       "\t<tr><td>mouse       </td><td>13261       </td><td>42034       </td><td>0           </td><td>   2        </td><td>0           </td><td>0.0014      </td></tr>\n",
       "\t<tr><td>Multiplet   </td><td>15745       </td><td>46111       </td><td>0           </td><td>   2        </td><td>0           </td><td>0.000076    </td></tr>\n",
       "</tbody>\n",
       "</table>\n"
      ],
      "text/latex": [
       "\\begin{tabular}{r|lllllll}\n",
       " cell\\_type & median(cellular\\_mRNAs) & max(cellular\\_mRNAs) & median(flu\\_mRNAs) & max(flu\\_mRNAs) & median(frac\\_flu) & format(max(frac\\_flu), digits = 2)\\\\\n",
       "\\hline\n",
       "\t humanplusflu & 11605        & 40639        & 0            & 2210         & 0            & 0.24        \\\\\n",
       "\t mouse        & 13261        & 42034        & 0            &    2         & 0            & 0.0014      \\\\\n",
       "\t Multiplet    & 15745        & 46111        & 0            &    2         & 0            & 0.000076    \\\\\n",
       "\\end{tabular}\n"
      ],
      "text/markdown": [
       "\n",
       "| cell_type | median(cellular_mRNAs) | max(cellular_mRNAs) | median(flu_mRNAs) | max(flu_mRNAs) | median(frac_flu) | format(max(frac_flu), digits = 2) |\n",
       "|---|---|---|---|---|---|---|\n",
       "| humanplusflu | 11605        | 40639        | 0            | 2210         | 0            | 0.24         |\n",
       "| mouse        | 13261        | 42034        | 0            |    2         | 0            | 0.0014       |\n",
       "| Multiplet    | 15745        | 46111        | 0            |    2         | 0            | 0.000076     |\n",
       "\n"
      ],
      "text/plain": [
       "  cell_type    median(cellular_mRNAs) max(cellular_mRNAs) median(flu_mRNAs)\n",
       "1 humanplusflu 11605                  40639               0                \n",
       "2 mouse        13261                  42034               0                \n",
       "3 Multiplet    15745                  46111               0                \n",
       "  max(flu_mRNAs) median(frac_flu) format(max(frac_flu), digits = 2)\n",
       "1 2210           0                0.24                             \n",
       "2    2           0                0.0014                           \n",
       "3    2           0                0.000076                         "
      ]
     },
     "metadata": {},
     "output_type": "display_data"
    }
   ],
   "source": [
    "# Display min and max flu mRNA, cellular mRNA counts\n",
    "group_by(pData(cds), cell_type) %>% summarize(\n",
    "    median(cellular_mRNAs), max(cellular_mRNAs),\n",
    "    median(flu_mRNAs), max(flu_mRNAs),\n",
    "    median(frac_flu), format(max(frac_flu), digits=2))"
   ]
  },
  {
   "cell_type": "code",
   "execution_count": 15,
   "metadata": {},
   "outputs": [
    {
     "data": {},
     "metadata": {},
     "output_type": "display_data"
    },
    {
     "data": {
      "image/png": "[encoded data removed]",
      "text/plain": [
       "plot without title"
      ]
     },
     "metadata": {},
     "output_type": "display_data"
    }
   ],
   "source": [
    "# Plot flu vs cellular mRNAs in the raw data.\n",
    "options(repr.plot.width=2.3 * (1 + length(cell_counts)), repr.plot.height=3)\n",
    "\n",
    "ggplot(pData(cds), aes(x=cellular_mRNAs, y=flu_mRNAs)) +\n",
    "    geom_point(alpha=0.3) +\n",
    "    facet_wrap(~cell_type) +\n",
    "    theme(axis.text.x=element_text(angle = 90, vjust = 0.4, size=10),\n",
    "         axis.title=element_text(size=11))"
   ]
  },
  {
   "cell_type": "markdown",
   "metadata": {},
   "source": [
    "From the above tables and plots, I infer that the flu burden in this experiment is quite low.  Most cells are uninfected.  Those A549 cells that were infected have a reasonable number of flu reads compared to their cellular reads.  \n",
    "Few flu reads leaked into mouse cells during single-cell processing.  "
   ]
  },
  {
   "cell_type": "markdown",
   "metadata": {},
   "source": [
    "### Filter data\n",
    "Now that we have some information about our dataset, let's filter out things which are obviously bad.\n",
    "\n",
    "Based on our metrics, we can take out cross-species multiplets, and droplets that fall well outside of the expected distribution of UMIs."
   ]
  },
  {
   "cell_type": "markdown",
   "metadata": {},
   "source": [
    "#### Remove known multiplets\n",
    "First, let us filtero out known, cross-species multiplets. This is simple."
   ]
  },
  {
   "cell_type": "code",
   "execution_count": 16,
   "metadata": {
    "scrolled": true
   },
   "outputs": [
    {
     "name": "stdout",
     "output_type": "stream",
     "text": [
      "[1] \"Unfiltered cell types:\"\n"
     ]
    },
    {
     "data": {
      "text/html": [
       "'humanplusflu, Multiplet, mouse'"
      ],
      "text/latex": [
       "'humanplusflu, Multiplet, mouse'"
      ],
      "text/markdown": [
       "'humanplusflu, Multiplet, mouse'"
      ],
      "text/plain": [
       "[1] \"humanplusflu, Multiplet, mouse\""
      ]
     },
     "metadata": {},
     "output_type": "display_data"
    },
    {
     "name": "stdout",
     "output_type": "stream",
     "text": [
      "[1] \"After filtering:\"\n"
     ]
    },
    {
     "data": {
      "text/html": [
       "'humanplusflu, mouse'"
      ],
      "text/latex": [
       "'humanplusflu, mouse'"
      ],
      "text/markdown": [
       "'humanplusflu, mouse'"
      ],
      "text/plain": [
       "[1] \"humanplusflu, mouse\""
      ]
     },
     "metadata": {},
     "output_type": "display_data"
    }
   ],
   "source": [
    "filtered_cds <- cds[, ! pData(cds)$cell_type == \"Multiplet\"]\n",
    "\n",
    "# Prove that multiplets are gone.\n",
    "print(\"Unfiltered cell types:\")\n",
    "toString(unique(pData(cds)$cell_type))\n",
    "\n",
    "print(\"After filtering:\")\n",
    "toString(unique(pData(filtered_cds)$cell_type))"
   ]
  },
  {
   "cell_type": "markdown",
   "metadata": {},
   "source": [
    "#### Remove low quality droplets\n",
    "Monocle suggests filtering cells with drastically more or less UMIs that average.  We will use a cut off of 2.5-fold the median. This is what was used in [Alistair's first single-cell flu paper](https://github.com/jbloomlab/flu_single_cell/blob/master/monocle_analysis.ipynb).\n",
    "\n",
    "It isn't conclusive whether flu mRNAs are produced **at the expense of** or **in addition to** cellular mRNAs. That said, I am going to continue using the assumption that Alistair and Jesse have employed in their papers thus far, and filter out cells based on cellular mRNAs (rather than total mRNAs).  \n",
    "\n",
    "This sort of assumes that flu mRNAs are produced *in addition to* cellular. Both of Alistair's datasets lend support to this assumption.\n",
    "\n",
    "From Alistair's IFN analysis:  \n",
    "\"In our prior work (Russell et al (2018)), it seemed that viral mRNAs were mostly additional to cellular ones, supporting the idea of filtering on cellular mRNAs. To confirm that it is also the case here, we correlate the fraction of mRNA from flu with total and cellular mRNA.\""
   ]
  },
  {
   "cell_type": "code",
   "execution_count": 17,
   "metadata": {},
   "outputs": [
    {
     "data": {
      "text/html": [
       "<table>\n",
       "<thead><tr><th scope=col>cell_type</th><th scope=col>fracflu_vs_total_mRNA</th><th scope=col>fracflu_vs_cellular_mRNA</th></tr></thead>\n",
       "<tbody>\n",
       "\t<tr><td>humanplusflu          </td><td>R = -0.06 (P = 0.002) </td><td>R = -0.08 (P = 0.0001)</td></tr>\n",
       "\t<tr><td>mouse                 </td><td>R = -0.22 (P = 0.0006)</td><td>R = -0.22 (P = 0.0006)</td></tr>\n",
       "</tbody>\n",
       "</table>\n"
      ],
      "text/latex": [
       "\\begin{tabular}{r|lll}\n",
       " cell\\_type & fracflu\\_vs\\_total\\_mRNA & fracflu\\_vs\\_cellular\\_mRNA\\\\\n",
       "\\hline\n",
       "\t humanplusflu           & R = -0.06 (P = 0.002)  & R = -0.08 (P = 0.0001)\\\\\n",
       "\t mouse                  & R = -0.22 (P = 0.0006) & R = -0.22 (P = 0.0006)\\\\\n",
       "\\end{tabular}\n"
      ],
      "text/markdown": [
       "\n",
       "| cell_type | fracflu_vs_total_mRNA | fracflu_vs_cellular_mRNA |\n",
       "|---|---|---|\n",
       "| humanplusflu           | R = -0.06 (P = 0.002)  | R = -0.08 (P = 0.0001) |\n",
       "| mouse                  | R = -0.22 (P = 0.0006) | R = -0.22 (P = 0.0006) |\n",
       "\n"
      ],
      "text/plain": [
       "  cell_type    fracflu_vs_total_mRNA  fracflu_vs_cellular_mRNA\n",
       "1 humanplusflu R = -0.06 (P = 0.002)  R = -0.08 (P = 0.0001)  \n",
       "2 mouse        R = -0.22 (P = 0.0006) R = -0.22 (P = 0.0006)  "
      ]
     },
     "metadata": {},
     "output_type": "display_data"
    }
   ],
   "source": [
    "# creates string of correlation (R and P-value)\n",
    "cor_string <- function (x1, x2) {\n",
    "  cor <- cor.test(x1, x2, method='pearson')\n",
    "  sprintf(\"R = %.2f (P = %.1g)\", cor$estimate, cor$p.value)\n",
    "}\n",
    "\n",
    "pData(filtered_cds) %>%\n",
    "  group_by(cell_type) %>%\n",
    "  summarize(fracflu_vs_total_mRNA=cor_string(\n",
    "              frac_flu, total_mRNAs),\n",
    "            fracflu_vs_cellular_mRNA=cor_string(\n",
    "              frac_flu, cellular_mRNAs))"
   ]
  },
  {
   "cell_type": "markdown",
   "metadata": {},
   "source": [
    "*In this dataset, flu burden correlates with a slight decrease in cellular mRNAs, as well as a slight decrease in total mRNA recovery.*  This is a departure from the trend seen in Alistair's work."
   ]
  },
  {
   "cell_type": "code",
   "execution_count": 18,
   "metadata": {},
   "outputs": [
    {
     "data": {
      "text/html": [
       "<table>\n",
       "<thead><tr><th scope=col>barcode</th><th scope=col>humanplusflu</th><th scope=col>mouse</th><th scope=col>cell_type</th><th scope=col>Size_Factor</th><th scope=col>total_mRNAs</th><th scope=col>cellular_mRNAs</th><th scope=col>flu_mRNAs</th><th scope=col>frac_flu</th><th scope=col>median_cellular_mRNAs</th><th scope=col>lower_bound_cellular_mRNAs</th><th scope=col>upper_bound_cellular_mRNAs</th><th scope=col>filtered</th></tr></thead>\n",
       "<tbody>\n",
       "\t<tr><td>AAACCTGAGCTGTTCA-1</td><td>28488             </td><td>20                </td><td>humanplusflu      </td><td>2.806657          </td><td>28508             </td><td>28508             </td><td>0                 </td><td>0.00000000000     </td><td>11605             </td><td>4642              </td><td>23210             </td><td> TRUE             </td></tr>\n",
       "\t<tr><td>AAACCTGCAAGGGTCA-1</td><td>14048             </td><td>15                </td><td>humanplusflu      </td><td>1.384524          </td><td>14063             </td><td>14063             </td><td>0                 </td><td>0.00000000000     </td><td>11605             </td><td>4642              </td><td>23210             </td><td>FALSE             </td></tr>\n",
       "\t<tr><td>AAACGGGAGAAGAAGC-1</td><td>10278             </td><td>15                </td><td>humanplusflu      </td><td>1.013362          </td><td>10293             </td><td>10293             </td><td>0                 </td><td>0.00000000000     </td><td>11605             </td><td>4642              </td><td>23210             </td><td>FALSE             </td></tr>\n",
       "\t<tr><td>AAACGGGCAAGCTGAG-1</td><td>15801             </td><td>14                </td><td>humanplusflu      </td><td>1.557011          </td><td>15815             </td><td>15815             </td><td>0                 </td><td>0.00000000000     </td><td>11605             </td><td>4642              </td><td>23210             </td><td>FALSE             </td></tr>\n",
       "\t<tr><td>AAACGGGCACAGGAGT-1</td><td>12698             </td><td>18                </td><td>humanplusflu      </td><td>1.251910          </td><td>12716             </td><td>12715             </td><td>1                 </td><td>0.00007864108     </td><td>11605             </td><td>4642              </td><td>23210             </td><td>FALSE             </td></tr>\n",
       "\t<tr><td>AAACGGGGTCCATCCT-1</td><td>15479             </td><td>17                </td><td>humanplusflu      </td><td>1.525605          </td><td>15496             </td><td>15496             </td><td>0                 </td><td>0.00000000000     </td><td>11605             </td><td>4642              </td><td>23210             </td><td>FALSE             </td></tr>\n",
       "</tbody>\n",
       "</table>\n"
      ],
      "text/latex": [
       "\\begin{tabular}{r|lllllllllllll}\n",
       " barcode & humanplusflu & mouse & cell\\_type & Size\\_Factor & total\\_mRNAs & cellular\\_mRNAs & flu\\_mRNAs & frac\\_flu & median\\_cellular\\_mRNAs & lower\\_bound\\_cellular\\_mRNAs & upper\\_bound\\_cellular\\_mRNAs & filtered\\\\\n",
       "\\hline\n",
       "\t AAACCTGAGCTGTTCA-1 & 28488              & 20                 & humanplusflu       & 2.806657           & 28508              & 28508              & 0                  & 0.00000000000      & 11605              & 4642               & 23210              &  TRUE             \\\\\n",
       "\t AAACCTGCAAGGGTCA-1 & 14048              & 15                 & humanplusflu       & 1.384524           & 14063              & 14063              & 0                  & 0.00000000000      & 11605              & 4642               & 23210              & FALSE             \\\\\n",
       "\t AAACGGGAGAAGAAGC-1 & 10278              & 15                 & humanplusflu       & 1.013362           & 10293              & 10293              & 0                  & 0.00000000000      & 11605              & 4642               & 23210              & FALSE             \\\\\n",
       "\t AAACGGGCAAGCTGAG-1 & 15801              & 14                 & humanplusflu       & 1.557011           & 15815              & 15815              & 0                  & 0.00000000000      & 11605              & 4642               & 23210              & FALSE             \\\\\n",
       "\t AAACGGGCACAGGAGT-1 & 12698              & 18                 & humanplusflu       & 1.251910           & 12716              & 12715              & 1                  & 0.00007864108      & 11605              & 4642               & 23210              & FALSE             \\\\\n",
       "\t AAACGGGGTCCATCCT-1 & 15479              & 17                 & humanplusflu       & 1.525605           & 15496              & 15496              & 0                  & 0.00000000000      & 11605              & 4642               & 23210              & FALSE             \\\\\n",
       "\\end{tabular}\n"
      ],
      "text/markdown": [
       "\n",
       "| barcode | humanplusflu | mouse | cell_type | Size_Factor | total_mRNAs | cellular_mRNAs | flu_mRNAs | frac_flu | median_cellular_mRNAs | lower_bound_cellular_mRNAs | upper_bound_cellular_mRNAs | filtered |\n",
       "|---|---|---|---|---|---|---|---|---|---|---|---|---|\n",
       "| AAACCTGAGCTGTTCA-1 | 28488              | 20                 | humanplusflu       | 2.806657           | 28508              | 28508              | 0                  | 0.00000000000      | 11605              | 4642               | 23210              |  TRUE              |\n",
       "| AAACCTGCAAGGGTCA-1 | 14048              | 15                 | humanplusflu       | 1.384524           | 14063              | 14063              | 0                  | 0.00000000000      | 11605              | 4642               | 23210              | FALSE              |\n",
       "| AAACGGGAGAAGAAGC-1 | 10278              | 15                 | humanplusflu       | 1.013362           | 10293              | 10293              | 0                  | 0.00000000000      | 11605              | 4642               | 23210              | FALSE              |\n",
       "| AAACGGGCAAGCTGAG-1 | 15801              | 14                 | humanplusflu       | 1.557011           | 15815              | 15815              | 0                  | 0.00000000000      | 11605              | 4642               | 23210              | FALSE              |\n",
       "| AAACGGGCACAGGAGT-1 | 12698              | 18                 | humanplusflu       | 1.251910           | 12716              | 12715              | 1                  | 0.00007864108      | 11605              | 4642               | 23210              | FALSE              |\n",
       "| AAACGGGGTCCATCCT-1 | 15479              | 17                 | humanplusflu       | 1.525605           | 15496              | 15496              | 0                  | 0.00000000000      | 11605              | 4642               | 23210              | FALSE              |\n",
       "\n"
      ],
      "text/plain": [
       "  barcode            humanplusflu mouse cell_type    Size_Factor total_mRNAs\n",
       "1 AAACCTGAGCTGTTCA-1 28488        20    humanplusflu 2.806657    28508      \n",
       "2 AAACCTGCAAGGGTCA-1 14048        15    humanplusflu 1.384524    14063      \n",
       "3 AAACGGGAGAAGAAGC-1 10278        15    humanplusflu 1.013362    10293      \n",
       "4 AAACGGGCAAGCTGAG-1 15801        14    humanplusflu 1.557011    15815      \n",
       "5 AAACGGGCACAGGAGT-1 12698        18    humanplusflu 1.251910    12716      \n",
       "6 AAACGGGGTCCATCCT-1 15479        17    humanplusflu 1.525605    15496      \n",
       "  cellular_mRNAs flu_mRNAs frac_flu      median_cellular_mRNAs\n",
       "1 28508          0         0.00000000000 11605                \n",
       "2 14063          0         0.00000000000 11605                \n",
       "3 10293          0         0.00000000000 11605                \n",
       "4 15815          0         0.00000000000 11605                \n",
       "5 12715          1         0.00007864108 11605                \n",
       "6 15496          0         0.00000000000 11605                \n",
       "  lower_bound_cellular_mRNAs upper_bound_cellular_mRNAs filtered\n",
       "1 4642                       23210                       TRUE   \n",
       "2 4642                       23210                      FALSE   \n",
       "3 4642                       23210                      FALSE   \n",
       "4 4642                       23210                      FALSE   \n",
       "5 4642                       23210                      FALSE   \n",
       "6 4642                       23210                      FALSE   "
      ]
     },
     "metadata": {},
     "output_type": "display_data"
    }
   ],
   "source": [
    "# Find filtering boundaries\n",
    "# Code from https://github.com/jbloomlab/IFNsorted_flu_single_cell/blob/master/monocle_analysis.ipynb\n",
    "\n",
    "# Annotate cells for filtering\n",
    "lower_bound = 2.5 # exclude if this many fold less than median\n",
    "upper_bound = 2.5 # exclude if this many fold more than median\n",
    "\n",
    "\n",
    "pData(filtered_cds)$median_cellular_mRNAs <- pData(filtered_cds) %>% group_by(cell_type) %>% \n",
    "  mutate(median=median(cellular_mRNAs)) %>% ungroup %>% select(median) %>% unlist\n",
    "pData(filtered_cds)$lower_bound_cellular_mRNAs <- pData(filtered_cds)$median_cellular_mRNAs / lower_bound\n",
    "pData(filtered_cds)$upper_bound_cellular_mRNAs <- pData(filtered_cds)$median_cellular_mRNAs * 2\n",
    "pData(filtered_cds)$filtered <- (\n",
    "      pData(filtered_cds)$cellular_mRNAs < pData(filtered_cds)$lower_bound_cellular_mRNAs |\n",
    "      pData(filtered_cds)$cellular_mRNAs > pData(filtered_cds)$upper_bound_cellular_mRNAs)\n",
    "\n",
    "head(pData(filtered_cds))"
   ]
  },
  {
   "cell_type": "code",
   "execution_count": 19,
   "metadata": {},
   "outputs": [
    {
     "data": {
      "text/html": [
       "<table>\n",
       "<thead><tr><th scope=col>cell_type</th><th scope=col>median_cellular_mRNAs</th><th scope=col>lower_bound_cellular_mRNAs</th><th scope=col>upper_bound_cellular_mRNAs</th><th scope=col>n_retained</th><th scope=col>n_filtered</th></tr></thead>\n",
       "<tbody>\n",
       "\t<tr><td>humanplusflu</td><td>11605       </td><td>4642.0      </td><td>23210       </td><td>1995        </td><td>306         </td></tr>\n",
       "\t<tr><td>mouse       </td><td>13261       </td><td>5304.4      </td><td>26522       </td><td> 203        </td><td> 50         </td></tr>\n",
       "</tbody>\n",
       "</table>\n"
      ],
      "text/latex": [
       "\\begin{tabular}{r|llllll}\n",
       " cell\\_type & median\\_cellular\\_mRNAs & lower\\_bound\\_cellular\\_mRNAs & upper\\_bound\\_cellular\\_mRNAs & n\\_retained & n\\_filtered\\\\\n",
       "\\hline\n",
       "\t humanplusflu & 11605        & 4642.0       & 23210        & 1995         & 306         \\\\\n",
       "\t mouse        & 13261        & 5304.4       & 26522        &  203         &  50         \\\\\n",
       "\\end{tabular}\n"
      ],
      "text/markdown": [
       "\n",
       "| cell_type | median_cellular_mRNAs | lower_bound_cellular_mRNAs | upper_bound_cellular_mRNAs | n_retained | n_filtered |\n",
       "|---|---|---|---|---|---|\n",
       "| humanplusflu | 11605        | 4642.0       | 23210        | 1995         | 306          |\n",
       "| mouse        | 13261        | 5304.4       | 26522        |  203         |  50          |\n",
       "\n"
      ],
      "text/plain": [
       "  cell_type    median_cellular_mRNAs lower_bound_cellular_mRNAs\n",
       "1 humanplusflu 11605                 4642.0                    \n",
       "2 mouse        13261                 5304.4                    \n",
       "  upper_bound_cellular_mRNAs n_retained n_filtered\n",
       "1 23210                      1995       306       \n",
       "2 26522                       203        50       "
      ]
     },
     "metadata": {},
     "output_type": "display_data"
    },
    {
     "data": {},
     "metadata": {},
     "output_type": "display_data"
    },
    {
     "data": {
      "image/png": "[encoded data removed]",
      "text/plain": [
       "plot without title"
      ]
     },
     "metadata": {},
     "output_type": "display_data"
    }
   ],
   "source": [
    "# Plot filtering cutoffs\n",
    "# Code from https://github.com/jbloomlab/IFNsorted_flu_single_cell/blob/master/monocle_analysis.ipynb\n",
    "\n",
    "options(repr.plot.width=6, repr.plot.height=3)\n",
    "\n",
    "# create scatter plot\n",
    "scatterplot <- ggplot(pData(filtered_cds),\n",
    "    aes(x=cellular_mRNAs, y=flu_mRNAs),\n",
    "    color=cbPalette[[1]]) +\n",
    "    geom_point(alpha=0.3)\n",
    "    \n",
    "\n",
    "# density plot, get value of maxy as here: https://stackoverflow.com/a/10659563\n",
    "densityplot <- eval(substitute(\n",
    "  {stat_density(aes(x=cellular_mRNAs, y=maxy*(..scaled..)),\n",
    "                geom=\"line\", color=cbPalette[[4]])},\n",
    "  list(maxy=layer_scales(scatterplot)$y$range$range[2])))\n",
    "\n",
    "p_flu_vs_cell <- scatterplot + densityplot + \n",
    "    theme(axis.text.x=element_text(angle = 90, vjust = 0.4, size=10),\n",
    "         axis.title=element_text(size=11)) +\n",
    "    geom_vline(aes(xintercept=lower_bound_cellular_mRNAs), color=cbPalette[[7]], linetype='dotted') +\n",
    "    geom_vline(aes(xintercept=upper_bound_cellular_mRNAs), color=cbPalette[[7]], linetype='dotted') +\n",
    "    facet_wrap(~cell_type, nrow=1) +\n",
    "    xlab(\"cellular mRNAs per cell\") + \n",
    "    ylab(\"flu mRNAs per cell\") \n",
    "\n",
    "pData(filtered_cds) %>% group_by(cell_type) %>% \n",
    "      summarize(median_cellular_mRNAs=mean(median_cellular_mRNAs),\n",
    "                lower_bound_cellular_mRNAs=mean(lower_bound_cellular_mRNAs),\n",
    "                upper_bound_cellular_mRNAs=mean(upper_bound_cellular_mRNAs),\n",
    "                n_retained=sum(! filtered),\n",
    "                n_filtered=sum(filtered))\n",
    "\n",
    "p_flu_vs_cell"
   ]
  },
  {
   "cell_type": "code",
   "execution_count": 20,
   "metadata": {},
   "outputs": [
    {
     "name": "stdout",
     "output_type": "stream",
     "text": [
      "[1] \"Before filtering:\"\n"
     ]
    },
    {
     "data": {
      "text/html": [
       "<table>\n",
       "<thead><tr><th scope=col>filtered</th><th scope=col>n()</th></tr></thead>\n",
       "<tbody>\n",
       "\t<tr><td>FALSE</td><td>2198 </td></tr>\n",
       "\t<tr><td> TRUE</td><td> 356 </td></tr>\n",
       "</tbody>\n",
       "</table>\n"
      ],
      "text/latex": [
       "\\begin{tabular}{r|ll}\n",
       " filtered & n()\\\\\n",
       "\\hline\n",
       "\t FALSE & 2198 \\\\\n",
       "\t  TRUE &  356 \\\\\n",
       "\\end{tabular}\n"
      ],
      "text/markdown": [
       "\n",
       "| filtered | n() |\n",
       "|---|---|\n",
       "| FALSE | 2198  |\n",
       "|  TRUE |  356  |\n",
       "\n"
      ],
      "text/plain": [
       "  filtered n() \n",
       "1 FALSE    2198\n",
       "2  TRUE     356"
      ]
     },
     "metadata": {},
     "output_type": "display_data"
    },
    {
     "name": "stdout",
     "output_type": "stream",
     "text": [
      "[1] \"After filtering:\"\n"
     ]
    },
    {
     "data": {
      "text/html": [
       "<table>\n",
       "<thead><tr><th scope=col>filtered</th><th scope=col>n()</th></tr></thead>\n",
       "<tbody>\n",
       "\t<tr><td>FALSE</td><td>2198 </td></tr>\n",
       "</tbody>\n",
       "</table>\n"
      ],
      "text/latex": [
       "\\begin{tabular}{r|ll}\n",
       " filtered & n()\\\\\n",
       "\\hline\n",
       "\t FALSE & 2198 \\\\\n",
       "\\end{tabular}\n"
      ],
      "text/markdown": [
       "\n",
       "| filtered | n() |\n",
       "|---|---|\n",
       "| FALSE | 2198  |\n",
       "\n"
      ],
      "text/plain": [
       "  filtered n() \n",
       "1 FALSE    2198"
      ]
     },
     "metadata": {},
     "output_type": "display_data"
    }
   ],
   "source": [
    "print('Before filtering:')\n",
    "filtered_cds %>% pData %>% group_by(filtered) %>% summarize(n())\n",
    "\n",
    "# Filter low quality droplets or droplets with too many UMIs.\n",
    "filtered_cds <- filtered_cds[, ! pData(filtered_cds)$filtered]\n",
    "\n",
    "print('After filtering:')\n",
    "# Prove that no filtered cells made it through:\n",
    "filtered_cds %>% pData %>% group_by(filtered) %>% summarize(n())"
   ]
  },
  {
   "cell_type": "markdown",
   "metadata": {},
   "source": [
    "### Call Infected Cells\n",
    "Next, we'd like to make a determination for each cell:  whether it was infected by influenza or not.\n",
    "\n",
    "#### Assess transcript leak between droplets; set threshold\n",
    "To do this, we can look at how many flu transcripts made it into murine 3T3 droplets, which were uninfected.  This gives us some baseline rate of leakage. Any A549 cell that has more flu transcipts than this baseline is likely to be a true, infected cell."
   ]
  },
  {
   "cell_type": "code",
   "execution_count": 21,
   "metadata": {},
   "outputs": [
    {
     "data": {
      "text/html": [
       "<table>\n",
       "<thead><tr><th scope=col>cell_type</th><th scope=col>median(flu_mRNAs)</th><th scope=col>max(flu_mRNAs)</th><th scope=col>median(frac_flu)</th><th scope=col>format(max(frac_flu), digits = 2)</th></tr></thead>\n",
       "<tbody>\n",
       "\t<tr><td>humanplusflu</td><td>0           </td><td>2210        </td><td>0           </td><td>0.23        </td></tr>\n",
       "\t<tr><td>mouse       </td><td>0           </td><td>   2        </td><td>0           </td><td>0.00022     </td></tr>\n",
       "</tbody>\n",
       "</table>\n"
      ],
      "text/latex": [
       "\\begin{tabular}{r|lllll}\n",
       " cell\\_type & median(flu\\_mRNAs) & max(flu\\_mRNAs) & median(frac\\_flu) & format(max(frac\\_flu), digits = 2)\\\\\n",
       "\\hline\n",
       "\t humanplusflu & 0            & 2210         & 0            & 0.23        \\\\\n",
       "\t mouse        & 0            &    2         & 0            & 0.00022     \\\\\n",
       "\\end{tabular}\n"
      ],
      "text/markdown": [
       "\n",
       "| cell_type | median(flu_mRNAs) | max(flu_mRNAs) | median(frac_flu) | format(max(frac_flu), digits = 2) |\n",
       "|---|---|---|---|---|\n",
       "| humanplusflu | 0            | 2210         | 0            | 0.23         |\n",
       "| mouse        | 0            |    2         | 0            | 0.00022      |\n",
       "\n"
      ],
      "text/plain": [
       "  cell_type    median(flu_mRNAs) max(flu_mRNAs) median(frac_flu)\n",
       "1 humanplusflu 0                 2210           0               \n",
       "2 mouse        0                    2           0               \n",
       "  format(max(frac_flu), digits = 2)\n",
       "1 0.23                             \n",
       "2 0.00022                          "
      ]
     },
     "metadata": {},
     "output_type": "display_data"
    }
   ],
   "source": [
    "# Display min and max flu mRNA, cellular mRNA counts\n",
    "group_by(pData(filtered_cds), cell_type) %>% summarize(\n",
    "    median(flu_mRNAs), max(flu_mRNAs),\n",
    "    median(frac_flu), format(max(frac_flu), digits=2))"
   ]
  },
  {
   "cell_type": "markdown",
   "metadata": {},
   "source": [
    "#### Call infected cells\n",
    "\n",
    "We can now call infected cells. We will consider any droplet to be infected if it has more than the amount of flu transcripts we might reasonably expect to leak from droplet to droplet. For our case, I will define this as *5 counts*. This is 2.5X the maximum number of reads found in a mouse droplet."
   ]
  },
  {
   "cell_type": "code",
   "execution_count": 23,
   "metadata": {},
   "outputs": [
    {
     "data": {
      "text/html": [
       "<table>\n",
       "<thead><tr><th scope=col>infected</th><th scope=col>n()</th></tr></thead>\n",
       "<tbody>\n",
       "\t<tr><td>FALSE</td><td>2171 </td></tr>\n",
       "\t<tr><td> TRUE</td><td>  27 </td></tr>\n",
       "</tbody>\n",
       "</table>\n"
      ],
      "text/latex": [
       "\\begin{tabular}{r|ll}\n",
       " infected & n()\\\\\n",
       "\\hline\n",
       "\t FALSE & 2171 \\\\\n",
       "\t  TRUE &   27 \\\\\n",
       "\\end{tabular}\n"
      ],
      "text/markdown": [
       "\n",
       "| infected | n() |\n",
       "|---|---|\n",
       "| FALSE | 2171  |\n",
       "|  TRUE |   27  |\n",
       "\n"
      ],
      "text/plain": [
       "  infected n() \n",
       "1 FALSE    2171\n",
       "2  TRUE      27"
      ]
     },
     "metadata": {},
     "output_type": "display_data"
    }
   ],
   "source": [
    "lower_bound_flu_mRNAs <- 5\n",
    "\n",
    "pData(filtered_cds)$infected <- (pData(filtered_cds)$flu_mRNAs > lower_bound_flu_mRNAs)\n",
    "\n",
    "filtered_cds %>% pData %>% group_by(infected) %>% summarize(n())"
   ]
  },
  {
   "cell_type": "markdown",
   "metadata": {},
   "source": [
    "I find that we have **27 confidently infected cells** in our dataset."
   ]
  },
  {
   "cell_type": "code",
   "execution_count": 42,
   "metadata": {},
   "outputs": [
    {
     "data": {},
     "metadata": {},
     "output_type": "display_data"
    },
    {
     "data": {
      "image/png": "[encoded data removed]",
      "text/plain": [
       "plot without title"
      ]
     },
     "metadata": {},
     "output_type": "display_data"
    }
   ],
   "source": [
    "# Plot flu vs cellular mRNAs in the filtered data.\n",
    "options(repr.plot.width=2.3 * (1 + length(cell_counts)), repr.plot.height=3)\n",
    "\n",
    "ggplot(pData(filtered_cds), aes(x=cellular_mRNAs, y=flu_mRNAs, color=infected)) +\n",
    "    scale_color_manual(values=c(\"#999999\", \"red\")) +\n",
    "    geom_point(alpha=0.3) +\n",
    "    geom_hline(aes(yintercept=lower_bound_flu_mRNAs), color=\"#444444\", linetype='dashed') +\n",
    "    facet_wrap(~cell_type) +\n",
    "    theme(axis.text.x=element_text(angle = 90, vjust = 0.4, size=10),\n",
    "         axis.title=element_text(size=11))"
   ]
  },
  {
   "cell_type": "code",
   "execution_count": 58,
   "metadata": {},
   "outputs": [
    {
     "data": {},
     "metadata": {},
     "output_type": "display_data"
    },
    {
     "data": {
      "image/png": "[encoded data removed]",
      "text/plain": [
       "plot without title"
      ]
     },
     "metadata": {},
     "output_type": "display_data"
    }
   ],
   "source": [
    "# Plot just positively-infected cells.\n",
    "options(repr.plot.width=5, repr.plot.height=3)\n",
    "\n",
    "ggplot(subset(pData(filtered_cds), infected==TRUE & cell_type==\"humanplusflu\"), aes(x=cellular_mRNAs, y=flu_mRNAs, color=flu_mRNAs)) +\n",
    "    geom_point(alpha=0.3) +\n",
    "    geom_hline(aes(yintercept=lower_bound_flu_mRNAs), color=\"#444444\", linetype='dashed') +\n",
    "    theme(axis.text.x=element_text(angle = 90, vjust = 0.4, size=10),\n",
    "         axis.title=element_text(size=11))"
   ]
  },
  {
   "cell_type": "code",
   "execution_count": null,
   "metadata": {},
   "outputs": [],
   "source": []
  },
  {
   "cell_type": "code",
   "execution_count": null,
   "metadata": {},
   "outputs": [],
   "source": []
  }
 ],
 "metadata": {
  "kernelspec": {
   "display_name": "R",
   "language": "R",
   "name": "ir"
  },
  "language_info": {
   "codemirror_mode": "r",
   "file_extension": ".r",
   "mimetype": "text/x-r-source",
   "name": "R",
   "pygments_lexer": "r",
   "version": "3.5.1"
  }
 },
 "nbformat": 4,
 "nbformat_minor": 2
}
