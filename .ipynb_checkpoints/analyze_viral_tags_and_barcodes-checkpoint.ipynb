{
 "cells": [
  {
   "cell_type": "markdown",
   "metadata": {},
   "source": [
    "# Analyze viral tags and barcodes\n",
    "R Jupyter notebook that analyzes viral tags and barcodes called from Illumina data."
   ]
  },
  {
   "cell_type": "markdown",
   "metadata": {},
   "source": [
    "## Setup for analysis\n",
    "Set all input parameters for notebook to enable [papermill parameterization](https://papermill.readthedocs.io/en/latest/usage.html#parameterizing-a-notebook).\n",
    "Note how the next cell is tagged as a `parameters` cell:"
   ]
  },
  {
   "cell_type": "code",
   "execution_count": 1,
   "metadata": {
    "tags": [
     "parameters"
    ]
   },
   "outputs": [],
   "source": [
    "tags_barcodes_csv <- \"results/viral_tags_barcodes/CA09_infected_A549/tags_barcodes.csv\"\n",
    "\n",
    "viral_tags <- c('wt', 'syn')\n",
    "\n",
    "tag_counts_output_csv <- \"results/cellfeature_matrices/CA09_infected_A549/viral_tag_counts.csv\""
   ]
  },
  {
   "cell_type": "markdown",
   "metadata": {},
   "source": [
    "Load packages:"
   ]
  },
  {
   "cell_type": "code",
   "execution_count": 2,
   "metadata": {},
   "outputs": [
    {
     "data": {
      "text/plain": [
       "R version 3.5.1 (2018-07-02)\n",
       "Platform: x86_64-conda_cos6-linux-gnu (64-bit)\n",
       "Running under: Ubuntu 14.04.5 LTS\n",
       "\n",
       "Matrix products: default\n",
       "BLAS/LAPACK: /fh/fast/bloom_j/software/conda/envs/BloomLab_v2/lib/R/lib/libRblas.so\n",
       "\n",
       "locale:\n",
       " [1] LC_CTYPE=en_US.UTF-8       LC_NUMERIC=C              \n",
       " [3] LC_TIME=en_US.UTF-8        LC_COLLATE=en_US.UTF-8    \n",
       " [5] LC_MONETARY=en_US.UTF-8    LC_MESSAGES=en_US.UTF-8   \n",
       " [7] LC_PAPER=en_US.UTF-8       LC_NAME=C                 \n",
       " [9] LC_ADDRESS=C               LC_TELEPHONE=C            \n",
       "[11] LC_MEASUREMENT=en_US.UTF-8 LC_IDENTIFICATION=C       \n",
       "\n",
       "attached base packages:\n",
       "[1] stats     graphics  grDevices utils     datasets  methods   base     \n",
       "\n",
       "other attached packages:\n",
       " [1] cowplot_0.9.3   forcats_0.3.0   stringr_1.3.1   dplyr_0.7.8    \n",
       " [5] purrr_0.2.5     readr_1.1.1     tidyr_0.8.1     tibble_1.4.2   \n",
       " [9] ggplot2_3.1.0   tidyverse_1.2.1\n",
       "\n",
       "loaded via a namespace (and not attached):\n",
       " [1] pbdZMQ_0.3-3     tidyselect_0.2.4 repr_0.19.1.9000 haven_1.1.2     \n",
       " [5] lattice_0.20-35  colorspace_1.3-2 htmltools_0.3.6  base64enc_0.1-3 \n",
       " [9] rlang_0.3.0.1    pillar_1.3.0     glue_1.3.0       withr_2.1.2     \n",
       "[13] modelr_0.1.2     readxl_1.1.0     bindrcpp_0.2.2   uuid_0.1-2      \n",
       "[17] bindr_0.1.1      plyr_1.8.4       munsell_0.5.0    gtable_0.2.0    \n",
       "[21] cellranger_1.1.0 rvest_0.3.2      evaluate_0.11    broom_0.5.0     \n",
       "[25] IRdisplay_0.7.0  Rcpp_1.0.0       backports_1.1.2  scales_1.0.0    \n",
       "[29] IRkernel_0.8.12  jsonlite_1.6     hms_0.4.2        digest_0.6.18   \n",
       "[33] stringi_1.2.4    grid_3.5.1       cli_1.0.0        tools_3.5.1     \n",
       "[37] magrittr_1.5     lazyeval_0.2.1   crayon_1.3.4     pkgconfig_2.0.1 \n",
       "[41] xml2_1.2.0       lubridate_1.7.4  assertthat_0.2.0 httr_1.3.1      \n",
       "[45] rstudioapi_0.7   R6_2.2.2         nlme_3.1-137     compiler_3.5.1  "
      ]
     },
     "metadata": {},
     "output_type": "display_data"
    }
   ],
   "source": [
    "# load R packages\n",
    "r_packages <- c(\"tidyverse\", \"cowplot\")\n",
    "suppressMessages(invisible(\n",
    "  lapply(r_packages, library, character.only=TRUE)))\n",
    "\n",
    "sessionInfo()"
   ]
  },
  {
   "cell_type": "markdown",
   "metadata": {},
   "source": [
    "Specify [color-blind color palette](http://www.cookbook-r.com/Graphs/Colors_(ggplot2)/#a-colorblind-friendly-palette):"
   ]
  },
  {
   "cell_type": "code",
   "execution_count": 3,
   "metadata": {},
   "outputs": [],
   "source": [
    "cbPalette <- c(\"#999999\", \"#E69F00\", \"#56B4E9\", \"#009E73\", \"#F0E442\", \n",
    "               \"#0072B2\", \"#D55E00\", \"#CC79A7\")"
   ]
  },
  {
   "cell_type": "markdown",
   "metadata": {},
   "source": [
    "## Read tags and barcodes\n",
    "Read data from CSV file:"
   ]
  },
  {
   "cell_type": "code",
   "execution_count": 4,
   "metadata": {},
   "outputs": [],
   "source": [
    "tags_barcodes <- read.csv(tags_barcodes_csv, na.strings=c(\"NA\", \"\"))\n",
    "\n",
    "# order genes as in input CSV\n",
    "genes <- tags_barcodes$gene %>% unique\n",
    "tags_barcodes <- tags_barcodes %>% transform(gene=factor(gene, genes))"
   ]
  },
  {
   "cell_type": "markdown",
   "metadata": {},
   "source": [
    "Plot number of reads per gene, indicating whether they have called cell barcodes and UMIs:"
   ]
  },
  {
   "cell_type": "code",
   "execution_count": 5,
   "metadata": {},
   "outputs": [
    {
     "data": {},
     "metadata": {},
     "output_type": "display_data"
    },
    {
     "data": {
      "image/png": "[encoded data removed]",
      "text/plain": [
       "plot without title"
      ]
     },
     "metadata": {},
     "output_type": "display_data"
    }
   ],
   "source": [
    "tags_barcodes <- tags_barcodes %>%\n",
    "  mutate(has_cell_barcode_and_UMI=!(is.na(cell_barcode) | is.na(umi)))\n",
    "\n",
    "options(repr.plot.width=6, repr.plot.height=2.5)\n",
    "\n",
    "ggplot(tags_barcodes, aes(gene, fill=has_cell_barcode_and_UMI)) + \n",
    "  geom_bar() +\n",
    "  scale_fill_manual(values=cbPalette[2:3]) +\n",
    "  theme(axis.text.x=element_text(angle=90, vjust=0.5, hjust=1)) +\n",
    "  ylab(\"number of reads\")"
   ]
  },
  {
   "cell_type": "markdown",
   "metadata": {},
   "source": [
    "Only keep reads with cell barcode and UMI:"
   ]
  },
  {
   "cell_type": "code",
   "execution_count": 6,
   "metadata": {},
   "outputs": [],
   "source": [
    "tags_barcodes <- tags_barcodes %>% filter(has_cell_barcode_and_UMI)"
   ]
  },
  {
   "cell_type": "markdown",
   "metadata": {},
   "source": [
    "How many reads come from recognized valid cells?\n",
    "Plot this:"
   ]
  },
  {
   "cell_type": "code",
   "execution_count": 7,
   "metadata": {},
   "outputs": [
    {
     "data": {},
     "metadata": {},
     "output_type": "display_data"
    },
    {
     "data": {
      "image/png": "[encoded data removed]",
      "text/plain": [
       "plot without title"
      ]
     },
     "metadata": {},
     "output_type": "display_data"
    }
   ],
   "source": [
    "tags_barcodes <- tags_barcodes %>%\n",
    "  mutate(valid_cell=!(cell_barcode == \"unrecognized\"))\n",
    "\n",
    "options(repr.plot.width=4.5, repr.plot.height=2.5)\n",
    "\n",
    "ggplot(tags_barcodes, aes(gene, fill=valid_cell)) + \n",
    "  geom_bar() +\n",
    "  scale_fill_manual(values=cbPalette[2:3]) +\n",
    "  theme(axis.text.x=element_text(angle=90, vjust=0.5, hjust=1)) +\n",
    "  ylab(\"number of reads\")"
   ]
  },
  {
   "cell_type": "markdown",
   "metadata": {},
   "source": [
    "Only keep reads from valid cells"
   ]
  },
  {
   "cell_type": "code",
   "execution_count": 8,
   "metadata": {},
   "outputs": [],
   "source": [
    "tags_barcodes <- tags_barcodes %>% filter(valid_cell)"
   ]
  },
  {
   "cell_type": "markdown",
   "metadata": {},
   "source": [
    "## Where do reads align in viral genes?\n",
    "Plot where the reads align in viral genes relative to the 3' end of the entire gene (not just mRNA):"
   ]
  },
  {
   "cell_type": "code",
   "execution_count": 9,
   "metadata": {},
   "outputs": [
    {
     "data": {},
     "metadata": {},
     "output_type": "display_data"
    },
    {
     "data": {
      "image/png": "[encoded data removed]",
      "text/plain": [
       "plot without title"
      ]
     },
     "metadata": {},
     "output_type": "display_data"
    }
   ],
   "source": [
    "options(repr.plot.width=8, repr.plot.height=4)\n",
    "\n",
    "ggplot(tags_barcodes, aes(align_start_from3)) +\n",
    "  geom_histogram(binwidth=10) +\n",
    "  theme(axis.text.x=element_text(angle=90, vjust=0.5, hjust=1)) +\n",
    "  facet_wrap(~ gene, nrow=2, scales='free') +\n",
    "  xlab(\"distance of read start from 3' end of gene\") +\n",
    "  ylab(\"number of reads\")"
   ]
  },
  {
   "cell_type": "markdown",
   "metadata": {},
   "source": [
    "Here are the median values for each gene:"
   ]
  },
  {
   "cell_type": "code",
   "execution_count": 10,
   "metadata": {},
   "outputs": [
    {
     "data": {
      "text/html": [
       "<table>\n",
       "<thead><tr><th scope=col>gene</th><th scope=col>median_start_from3</th></tr></thead>\n",
       "<tbody>\n",
       "\t<tr><td>fluPB2</td><td> 284  </td></tr>\n",
       "\t<tr><td>fluPB1</td><td>1385  </td></tr>\n",
       "\t<tr><td>fluPA </td><td> 297  </td></tr>\n",
       "\t<tr><td>fluHA </td><td> 302  </td></tr>\n",
       "\t<tr><td>fluNP </td><td> 276  </td></tr>\n",
       "\t<tr><td>fluNA </td><td> 259  </td></tr>\n",
       "\t<tr><td>fluM  </td><td> 268  </td></tr>\n",
       "\t<tr><td>fluNS </td><td> 262  </td></tr>\n",
       "</tbody>\n",
       "</table>\n"
      ],
      "text/latex": [
       "\\begin{tabular}{r|ll}\n",
       " gene & median\\_start\\_from3\\\\\n",
       "\\hline\n",
       "\t fluPB2 &  284  \\\\\n",
       "\t fluPB1 & 1385  \\\\\n",
       "\t fluPA  &  297  \\\\\n",
       "\t fluHA  &  302  \\\\\n",
       "\t fluNP  &  276  \\\\\n",
       "\t fluNA  &  259  \\\\\n",
       "\t fluM   &  268  \\\\\n",
       "\t fluNS  &  262  \\\\\n",
       "\\end{tabular}\n"
      ],
      "text/markdown": [
       "\n",
       "| gene | median_start_from3 |\n",
       "|---|---|\n",
       "| fluPB2 |  284   |\n",
       "| fluPB1 | 1385   |\n",
       "| fluPA  |  297   |\n",
       "| fluHA  |  302   |\n",
       "| fluNP  |  276   |\n",
       "| fluNA  |  259   |\n",
       "| fluM   |  268   |\n",
       "| fluNS  |  262   |\n",
       "\n"
      ],
      "text/plain": [
       "  gene   median_start_from3\n",
       "1 fluPB2  284              \n",
       "2 fluPB1 1385              \n",
       "3 fluPA   297              \n",
       "4 fluHA   302              \n",
       "5 fluNP   276              \n",
       "6 fluNA   259              \n",
       "7 fluM    268              \n",
       "8 fluNS   262              "
      ]
     },
     "metadata": {},
     "output_type": "display_data"
    }
   ],
   "source": [
    "tags_barcodes %>%\n",
    "  group_by(gene) %>%\n",
    "  summarize(median_start_from3=median(align_start_from3))"
   ]
  },
  {
   "cell_type": "markdown",
   "metadata": {},
   "source": [
    "## Get reads with called viral tags\n",
    "First we examine how many reads fail to call a viral tag:"
   ]
  },
  {
   "cell_type": "code",
   "execution_count": 11,
   "metadata": {},
   "outputs": [
    {
     "data": {},
     "metadata": {},
     "output_type": "display_data"
    },
    {
     "data": {
      "image/png": "[encoded data removed]",
      "text/plain": [
       "plot without title"
      ]
     },
     "metadata": {},
     "output_type": "display_data"
    }
   ],
   "source": [
    "tags_barcodes <- tags_barcodes %>%\n",
    "  mutate(called_tag=viral_tag %in% viral_tags)\n",
    "\n",
    "options(repr.plot.width=8, repr.plot.height=4)\n",
    "\n",
    "ggplot(tags_barcodes, aes(viral_tag, fill=called_tag)) +\n",
    "  geom_bar(position=position_dodge()) +\n",
    "  theme(axis.text.x=element_text(angle=90, vjust=0.5, hjust=1)) +\n",
    "  facet_wrap(~ gene, ncol=4, scale='free_x') +\n",
    "  ylab(\"number of reads\") +\n",
    "  coord_flip() +\n",
    "  scale_fill_manual(values=cbPalette)"
   ]
  },
  {
   "cell_type": "markdown",
   "metadata": {},
   "source": [
    "Only keep reads that call a viral tag:"
   ]
  },
  {
   "cell_type": "code",
   "execution_count": 12,
   "metadata": {},
   "outputs": [],
   "source": [
    "tags_barcodes <- tags_barcodes %>% filter(called_tag)"
   ]
  },
  {
   "cell_type": "markdown",
   "metadata": {},
   "source": [
    "## Get viral tag assignment for each UMI\n",
    "Get the number of reads associated with each viral tag for each UMI, treating the combined gene, cell barcode, and actual UMI as the true UMI.\n",
    "\n",
    "First, determine the number of different viral tags associated with each UMI.\n",
    "The vast majority of UMIs should have just one viral tag or something is wrong:"
   ]
  },
  {
   "cell_type": "code",
   "execution_count": 13,
   "metadata": {},
   "outputs": [
    {
     "data": {
      "text/html": [
       "<table>\n",
       "<thead><tr><th scope=col>ntags</th><th scope=col>number_of_umis</th></tr></thead>\n",
       "<tbody>\n",
       "\t<tr><td>1   </td><td>7176</td></tr>\n",
       "</tbody>\n",
       "</table>\n"
      ],
      "text/latex": [
       "\\begin{tabular}{r|ll}\n",
       " ntags & number\\_of\\_umis\\\\\n",
       "\\hline\n",
       "\t 1    & 7176\\\\\n",
       "\\end{tabular}\n"
      ],
      "text/markdown": [
       "\n",
       "| ntags | number_of_umis |\n",
       "|---|---|\n",
       "| 1    | 7176 |\n",
       "\n"
      ],
      "text/plain": [
       "  ntags number_of_umis\n",
       "1 1     7176          "
      ]
     },
     "metadata": {},
     "output_type": "display_data"
    }
   ],
   "source": [
    "tags_barcodes %>%\n",
    "  group_by(gene, cell_barcode, umi, viral_tag) %>%\n",
    "  summarize() %>%\n",
    "  group_by(gene, cell_barcode, umi) %>% \n",
    "  summarize(ntags=n()) %>%\n",
    "  group_by(ntags) %>%\n",
    "  summarize(number_of_umis=n())"
   ]
  },
  {
   "cell_type": "markdown",
   "metadata": {},
   "source": [
    "Now get the tag assignments for each UMI (along with its gene and cell barcode), taking the most common viral tag for that UMI (using approach [here](https://stackoverflow.com/q/32766325)):"
   ]
  },
  {
   "cell_type": "code",
   "execution_count": 14,
   "metadata": {},
   "outputs": [],
   "source": [
    "tag_assignments <- tags_barcodes %>%\n",
    "  group_by(gene, cell_barcode, umi) %>%\n",
    "  summarise(viral_tag=names(table(viral_tag))[which.max(table(viral_tag))])"
   ]
  },
  {
   "cell_type": "markdown",
   "metadata": {},
   "source": [
    "## Analyze viral tag assignments\n",
    "How many occurrences of each tag for each gene?"
   ]
  },
  {
   "cell_type": "code",
   "execution_count": 15,
   "metadata": {},
   "outputs": [
    {
     "data": {},
     "metadata": {},
     "output_type": "display_data"
    },
    {
     "data": {
      "image/png": "[encoded data removed]",
      "text/plain": [
       "plot without title"
      ]
     },
     "metadata": {},
     "output_type": "display_data"
    }
   ],
   "source": [
    "options(repr.plot.width=4.5, repr.plot.height=2.5)\n",
    "\n",
    "ggplot(tag_assignments, aes(gene, fill=viral_tag)) +\n",
    "  geom_bar() +\n",
    "  scale_fill_manual(values=cbPalette) +\n",
    "  theme(axis.text.x=element_text(angle=90, vjust=0.5, hjust=1)) +\n",
    "  ylab(\"number of UMIs\")"
   ]
  },
  {
   "cell_type": "markdown",
   "metadata": {},
   "source": [
    "## Get and write viral tag counts for each gene and cell\n",
    "We simply count the number of UMIs reporting each viral tag for each gene and cell:"
   ]
  },
  {
   "cell_type": "code",
   "execution_count": 16,
   "metadata": {},
   "outputs": [],
   "source": [
    "tag_counts <- tag_assignments %>% \n",
    "  group_by(cell_barcode, gene, viral_tag) %>%\n",
    "  summarize(n_umis=n()) "
   ]
  },
  {
   "cell_type": "markdown",
   "metadata": {},
   "source": [
    "Here is what these data look like:"
   ]
  },
  {
   "cell_type": "code",
   "execution_count": 17,
   "metadata": {},
   "outputs": [
    {
     "data": {
      "text/html": [
       "<table>\n",
       "<thead><tr><th scope=col>cell_barcode</th><th scope=col>gene</th><th scope=col>viral_tag</th><th scope=col>n_umis</th></tr></thead>\n",
       "<tbody>\n",
       "\t<tr><td>AAAGTAGGTCTGATCA-1</td><td>fluM              </td><td>syn               </td><td> 1                </td></tr>\n",
       "\t<tr><td>AAATGCCCAGCCACCA-1</td><td>fluNS             </td><td>wt                </td><td> 1                </td></tr>\n",
       "\t<tr><td>AAATGCCGTGTGGTTT-1</td><td>fluPB2            </td><td>wt                </td><td>22                </td></tr>\n",
       "\t<tr><td>AAATGCCGTGTGGTTT-1</td><td>fluPB1            </td><td>wt                </td><td>22                </td></tr>\n",
       "\t<tr><td>AAATGCCGTGTGGTTT-1</td><td>fluPA             </td><td>wt                </td><td>18                </td></tr>\n",
       "</tbody>\n",
       "</table>\n"
      ],
      "text/latex": [
       "\\begin{tabular}{r|llll}\n",
       " cell\\_barcode & gene & viral\\_tag & n\\_umis\\\\\n",
       "\\hline\n",
       "\t AAAGTAGGTCTGATCA-1 & fluM               & syn                &  1                \\\\\n",
       "\t AAATGCCCAGCCACCA-1 & fluNS              & wt                 &  1                \\\\\n",
       "\t AAATGCCGTGTGGTTT-1 & fluPB2             & wt                 & 22                \\\\\n",
       "\t AAATGCCGTGTGGTTT-1 & fluPB1             & wt                 & 22                \\\\\n",
       "\t AAATGCCGTGTGGTTT-1 & fluPA              & wt                 & 18                \\\\\n",
       "\\end{tabular}\n"
      ],
      "text/markdown": [
       "\n",
       "| cell_barcode | gene | viral_tag | n_umis |\n",
       "|---|---|---|---|\n",
       "| AAAGTAGGTCTGATCA-1 | fluM               | syn                |  1                 |\n",
       "| AAATGCCCAGCCACCA-1 | fluNS              | wt                 |  1                 |\n",
       "| AAATGCCGTGTGGTTT-1 | fluPB2             | wt                 | 22                 |\n",
       "| AAATGCCGTGTGGTTT-1 | fluPB1             | wt                 | 22                 |\n",
       "| AAATGCCGTGTGGTTT-1 | fluPA              | wt                 | 18                 |\n",
       "\n"
      ],
      "text/plain": [
       "  cell_barcode       gene   viral_tag n_umis\n",
       "1 AAAGTAGGTCTGATCA-1 fluM   syn        1    \n",
       "2 AAATGCCCAGCCACCA-1 fluNS  wt         1    \n",
       "3 AAATGCCGTGTGGTTT-1 fluPB2 wt        22    \n",
       "4 AAATGCCGTGTGGTTT-1 fluPB1 wt        22    \n",
       "5 AAATGCCGTGTGGTTT-1 fluPA  wt        18    "
      ]
     },
     "metadata": {},
     "output_type": "display_data"
    }
   ],
   "source": [
    "tag_counts %>% head(n=5)"
   ]
  },
  {
   "cell_type": "markdown",
   "metadata": {},
   "source": [
    "Write the data to a file:"
   ]
  },
  {
   "cell_type": "code",
   "execution_count": 18,
   "metadata": {},
   "outputs": [],
   "source": [
    "tag_counts %>% write.csv(tag_counts_output_csv, row.names=FALSE, quote=FALSE)"
   ]
  }
 ],
 "metadata": {
  "kernelspec": {
   "display_name": "R",
   "language": "R",
   "name": "ir"
  },
  "language_info": {
   "codemirror_mode": "r",
   "file_extension": ".r",
   "mimetype": "text/x-r-source",
   "name": "R",
   "pygments_lexer": "r",
   "version": "3.5.1"
  },
  "toc": {
   "base_numbering": 1,
   "nav_menu": {},
   "number_sections": false,
   "sideBar": true,
   "skip_h1_title": false,
   "title_cell": "Table of Contents",
   "title_sidebar": "Contents",
   "toc_cell": false,
   "toc_position": {},
   "toc_section_display": true,
   "toc_window_display": true
  }
 },
 "nbformat": 4,
 "nbformat_minor": 2
}
